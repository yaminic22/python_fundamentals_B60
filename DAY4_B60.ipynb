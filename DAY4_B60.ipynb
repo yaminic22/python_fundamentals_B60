{
 "cells": [
  {
   "cell_type": "code",
   "execution_count": null,
   "id": "9780e5d9",
   "metadata": {},
   "outputs": [],
   "source": [
    "Introduction to list datatype:"
   ]
  },
  {
   "cell_type": "code",
   "execution_count": null,
   "id": "ef367cb1",
   "metadata": {},
   "outputs": [],
   "source": [
    "definition: A list is a collection of items declared in a particular order\n",
    "classification: It is classified as a mutable data type\n",
    "how to declare the list datatype ... ? []"
   ]
  },
  {
   "cell_type": "code",
   "execution_count": 4,
   "id": "ac7f433c",
   "metadata": {},
   "outputs": [],
   "source": [
    "students = ['nusrath','deepika','rahul','naveen','joseph','imran'] #0,1,2,3,4,5"
   ]
  },
  {
   "cell_type": "code",
   "execution_count": 5,
   "id": "7b494b65",
   "metadata": {},
   "outputs": [
    {
     "name": "stdout",
     "output_type": "stream",
     "text": [
      "['nusrath', 'deepika', 'rahul', 'naveen', 'joseph', 'imran']\n"
     ]
    }
   ],
   "source": [
    "print(students)"
   ]
  },
  {
   "cell_type": "code",
   "execution_count": 6,
   "id": "42be9e36",
   "metadata": {},
   "outputs": [
    {
     "data": {
      "text/plain": [
       "list"
      ]
     },
     "execution_count": 6,
     "metadata": {},
     "output_type": "execute_result"
    }
   ],
   "source": [
    "type(students)"
   ]
  },
  {
   "cell_type": "code",
   "execution_count": null,
   "id": "8c7fd0f9",
   "metadata": {},
   "outputs": [],
   "source": [
    "Introduction to Indexing : 0,1,2,3.....!"
   ]
  },
  {
   "cell_type": "code",
   "execution_count": null,
   "id": "0085951d",
   "metadata": {},
   "outputs": [],
   "source": [
    "# Req: I want to get the name of Deepika in the output....?"
   ]
  },
  {
   "cell_type": "code",
   "execution_count": 7,
   "id": "2327b4cb",
   "metadata": {},
   "outputs": [
    {
     "name": "stdout",
     "output_type": "stream",
     "text": [
      "deepika\n"
     ]
    }
   ],
   "source": [
    "print(students[1])"
   ]
  },
  {
   "cell_type": "code",
   "execution_count": null,
   "id": "b5a02112",
   "metadata": {},
   "outputs": [],
   "source": [
    "# Req: I want to get the name of Rahul in the output....?"
   ]
  },
  {
   "cell_type": "code",
   "execution_count": 8,
   "id": "8e35589a",
   "metadata": {},
   "outputs": [
    {
     "name": "stdout",
     "output_type": "stream",
     "text": [
      "rahul\n"
     ]
    }
   ],
   "source": [
    "print(students[2])"
   ]
  },
  {
   "cell_type": "code",
   "execution_count": 10,
   "id": "3b972ff7",
   "metadata": {},
   "outputs": [
    {
     "name": "stdout",
     "output_type": "stream",
     "text": [
      "Rahul\n"
     ]
    }
   ],
   "source": [
    "print(students[2].title())"
   ]
  },
  {
   "cell_type": "code",
   "execution_count": null,
   "id": "7472a727",
   "metadata": {},
   "outputs": [],
   "source": [
    "1.how to add new elements to the list\n",
    "2.how to modify the elements in the list\n",
    "3.how to delete the elements in the list"
   ]
  },
  {
   "cell_type": "code",
   "execution_count": null,
   "id": "67fb25f7",
   "metadata": {},
   "outputs": [],
   "source": [
    "#Req : I want to add harish to the above list..?"
   ]
  },
  {
   "cell_type": "code",
   "execution_count": 11,
   "id": "746cc4a4",
   "metadata": {},
   "outputs": [],
   "source": [
    "students.append('harish')"
   ]
  },
  {
   "cell_type": "code",
   "execution_count": 12,
   "id": "dcea65ea",
   "metadata": {},
   "outputs": [
    {
     "name": "stdout",
     "output_type": "stream",
     "text": [
      "['nusrath', 'deepika', 'rahul', 'naveen', 'joseph', 'imran', 'harish']\n"
     ]
    }
   ],
   "source": [
    "print(students)"
   ]
  },
  {
   "cell_type": "code",
   "execution_count": null,
   "id": "16b7c479",
   "metadata": {},
   "outputs": [],
   "source": [
    "#Req : I want to add yamini to the above list..?"
   ]
  },
  {
   "cell_type": "code",
   "execution_count": 13,
   "id": "e22a9ae0",
   "metadata": {},
   "outputs": [],
   "source": [
    "students.append('yamini')"
   ]
  },
  {
   "cell_type": "code",
   "execution_count": 14,
   "id": "1bbd0ebe",
   "metadata": {},
   "outputs": [
    {
     "name": "stdout",
     "output_type": "stream",
     "text": [
      "['nusrath', 'deepika', 'rahul', 'naveen', 'joseph', 'imran', 'harish', 'yamini']\n"
     ]
    }
   ],
   "source": [
    "print(students)"
   ]
  },
  {
   "cell_type": "code",
   "execution_count": null,
   "id": "2130e8ba",
   "metadata": {},
   "outputs": [],
   "source": [
    "# Req : I want to add nikhil to 2nd index...?"
   ]
  },
  {
   "cell_type": "code",
   "execution_count": 15,
   "id": "88703102",
   "metadata": {},
   "outputs": [],
   "source": [
    "students.insert(2,'nikhil')"
   ]
  },
  {
   "cell_type": "code",
   "execution_count": 16,
   "id": "6d47e250",
   "metadata": {},
   "outputs": [
    {
     "name": "stdout",
     "output_type": "stream",
     "text": [
      "['nusrath', 'deepika', 'nikhil', 'rahul', 'naveen', 'joseph', 'imran', 'harish', 'yamini']\n"
     ]
    }
   ],
   "source": [
    "print(students)"
   ]
  },
  {
   "cell_type": "code",
   "execution_count": 17,
   "id": "932e456b",
   "metadata": {},
   "outputs": [
    {
     "name": "stdout",
     "output_type": "stream",
     "text": [
      "nikhil\n"
     ]
    }
   ],
   "source": [
    "print(students[2])"
   ]
  },
  {
   "cell_type": "code",
   "execution_count": null,
   "id": "8567b487",
   "metadata": {},
   "outputs": [],
   "source": [
    "Interview Question : What is the diff btw append and insert method in a list ....? ***"
   ]
  },
  {
   "cell_type": "code",
   "execution_count": 18,
   "id": "35835fa4",
   "metadata": {},
   "outputs": [
    {
     "name": "stdout",
     "output_type": "stream",
     "text": [
      "['nusrath', 'deepika', 'nikhil', 'rahul', 'naveen', 'joseph', 'imran', 'harish', 'yamini']\n"
     ]
    }
   ],
   "source": [
    "print(students)"
   ]
  },
  {
   "cell_type": "code",
   "execution_count": null,
   "id": "18918561",
   "metadata": {},
   "outputs": [],
   "source": [
    "# Req : I want to modify naveen name to satish ?"
   ]
  },
  {
   "cell_type": "code",
   "execution_count": 19,
   "id": "a9739be4",
   "metadata": {},
   "outputs": [],
   "source": [
    "students[4] ='satish'"
   ]
  },
  {
   "cell_type": "code",
   "execution_count": 20,
   "id": "bf0ce48c",
   "metadata": {},
   "outputs": [
    {
     "name": "stdout",
     "output_type": "stream",
     "text": [
      "['nusrath', 'deepika', 'nikhil', 'rahul', 'satish', 'joseph', 'imran', 'harish', 'yamini']\n"
     ]
    }
   ],
   "source": [
    "print(students)"
   ]
  },
  {
   "cell_type": "code",
   "execution_count": null,
   "id": "f7fb4738",
   "metadata": {},
   "outputs": [],
   "source": []
  }
 ],
 "metadata": {
  "kernelspec": {
   "display_name": "Python 3 (ipykernel)",
   "language": "python",
   "name": "python3"
  },
  "language_info": {
   "codemirror_mode": {
    "name": "ipython",
    "version": 3
   },
   "file_extension": ".py",
   "mimetype": "text/x-python",
   "name": "python",
   "nbconvert_exporter": "python",
   "pygments_lexer": "ipython3",
   "version": "3.9.7"
  },
  "toc": {
   "base_numbering": 1,
   "nav_menu": {},
   "number_sections": true,
   "sideBar": true,
   "skip_h1_title": false,
   "title_cell": "Table of Contents",
   "title_sidebar": "Contents",
   "toc_cell": false,
   "toc_position": {},
   "toc_section_display": true,
   "toc_window_display": false
  }
 },
 "nbformat": 4,
 "nbformat_minor": 5
}
