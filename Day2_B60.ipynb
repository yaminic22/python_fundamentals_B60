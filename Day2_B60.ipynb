{
 "cells": [
  {
   "cell_type": "code",
   "execution_count": null,
   "id": "1fb8bcd7",
   "metadata": {},
   "outputs": [],
   "source": [
    "Introduction to python programming:"
   ]
  },
  {
   "cell_type": "code",
   "execution_count": null,
   "id": "988a001f",
   "metadata": {},
   "outputs": [],
   "source": [
    "Understanding the variables in python:"
   ]
  },
  {
   "cell_type": "code",
   "execution_count": 1,
   "id": "ffb4106a",
   "metadata": {},
   "outputs": [],
   "source": [
    "x=5\n",
    "y=3"
   ]
  },
  {
   "cell_type": "code",
   "execution_count": 2,
   "id": "42754d58",
   "metadata": {},
   "outputs": [
    {
     "name": "stdout",
     "output_type": "stream",
     "text": [
      "8\n"
     ]
    }
   ],
   "source": [
    "z=x+y\n",
    "print(z)"
   ]
  },
  {
   "cell_type": "code",
   "execution_count": null,
   "id": "2487a479",
   "metadata": {},
   "outputs": [],
   "source": [
    "Rules for declaring the variables in python:"
   ]
  },
  {
   "cell_type": "code",
   "execution_count": null,
   "id": "7d1ba126",
   "metadata": {},
   "outputs": [],
   "source": [
    "Rule No 1: No namespaces while declaring the variable name."
   ]
  },
  {
   "cell_type": "code",
   "execution_count": 4,
   "id": "ebb0d909",
   "metadata": {},
   "outputs": [
    {
     "ename": "SyntaxError",
     "evalue": "invalid syntax (Temp/ipykernel_18208/2499538331.py, line 1)",
     "output_type": "error",
     "traceback": [
      "\u001b[1;36m  File \u001b[1;32m\"C:\\Users\\phani\\AppData\\Local\\Temp/ipykernel_18208/2499538331.py\"\u001b[1;36m, line \u001b[1;32m1\u001b[0m\n\u001b[1;33m    first name = 'faiyaz'\u001b[0m\n\u001b[1;37m          ^\u001b[0m\n\u001b[1;31mSyntaxError\u001b[0m\u001b[1;31m:\u001b[0m invalid syntax\n"
     ]
    }
   ],
   "source": [
    "first name = 'faiyaz'\n",
    "print(first name)"
   ]
  },
  {
   "cell_type": "code",
   "execution_count": 5,
   "id": "0e7051e0",
   "metadata": {},
   "outputs": [
    {
     "name": "stdout",
     "output_type": "stream",
     "text": [
      "faiyaz\n"
     ]
    }
   ],
   "source": [
    "firstname = 'faiyaz'\n",
    "print(firstname)"
   ]
  },
  {
   "cell_type": "code",
   "execution_count": 6,
   "id": "8fee3461",
   "metadata": {},
   "outputs": [
    {
     "name": "stdout",
     "output_type": "stream",
     "text": [
      "faiyaz\n"
     ]
    }
   ],
   "source": [
    "first_name = 'faiyaz'\n",
    "print(first_name)"
   ]
  },
  {
   "cell_type": "code",
   "execution_count": null,
   "id": "4bcfebad",
   "metadata": {},
   "outputs": [],
   "source": [
    "Rule No 2: A varaible name should not start with a number **"
   ]
  },
  {
   "cell_type": "code",
   "execution_count": 7,
   "id": "1e0338b9",
   "metadata": {},
   "outputs": [
    {
     "ename": "SyntaxError",
     "evalue": "invalid syntax (Temp/ipykernel_18208/3215485277.py, line 1)",
     "output_type": "error",
     "traceback": [
      "\u001b[1;36m  File \u001b[1;32m\"C:\\Users\\phani\\AppData\\Local\\Temp/ipykernel_18208/3215485277.py\"\u001b[1;36m, line \u001b[1;32m1\u001b[0m\n\u001b[1;33m    1name = 'harish'\u001b[0m\n\u001b[1;37m     ^\u001b[0m\n\u001b[1;31mSyntaxError\u001b[0m\u001b[1;31m:\u001b[0m invalid syntax\n"
     ]
    }
   ],
   "source": [
    "1name = 'harish'\n",
    "print(1name)"
   ]
  },
  {
   "cell_type": "code",
   "execution_count": 8,
   "id": "cabdca7c",
   "metadata": {},
   "outputs": [
    {
     "name": "stdout",
     "output_type": "stream",
     "text": [
      "harish\n"
     ]
    }
   ],
   "source": [
    "name1 ='harish'\n",
    "print(name1)"
   ]
  },
  {
   "cell_type": "code",
   "execution_count": null,
   "id": "4cda64b8",
   "metadata": {},
   "outputs": [],
   "source": [
    "Rule No 3: A variable name should not contain any special characters. @$%^&*"
   ]
  },
  {
   "cell_type": "code",
   "execution_count": 9,
   "id": "339740ef",
   "metadata": {},
   "outputs": [
    {
     "ename": "SyntaxError",
     "evalue": "invalid syntax (Temp/ipykernel_18208/1654268337.py, line 1)",
     "output_type": "error",
     "traceback": [
      "\u001b[1;36m  File \u001b[1;32m\"C:\\Users\\phani\\AppData\\Local\\Temp/ipykernel_18208/1654268337.py\"\u001b[1;36m, line \u001b[1;32m1\u001b[0m\n\u001b[1;33m    name@ = 'sakshi'\u001b[0m\n\u001b[1;37m          ^\u001b[0m\n\u001b[1;31mSyntaxError\u001b[0m\u001b[1;31m:\u001b[0m invalid syntax\n"
     ]
    }
   ],
   "source": [
    "name@ = 'sakshi'\n",
    "print(name@)"
   ]
  },
  {
   "cell_type": "code",
   "execution_count": null,
   "id": "7b9f0158",
   "metadata": {},
   "outputs": [],
   "source": [
    "Introduction to datatypes in python:\n",
    "    1.string => str\n",
    "    2.numbers => integers (int) , floats (float) (decimals)\n",
    "    3.tuples => tuple\n",
    "    4.lists => list\n",
    "    5.Dictionaries => dict"
   ]
  },
  {
   "cell_type": "code",
   "execution_count": null,
   "id": "ac4c7516",
   "metadata": {},
   "outputs": [],
   "source": [
    "classification of data types:\n",
    "    Broadly data types are classified int two categories :\n",
    "        1. mutable datatype   ==> where in we can be able to edit or alter ==> flexible\n",
    "        2. immutable datatype  ==> where in we will not be able to edit or alter ==> fixed"
   ]
  },
  {
   "cell_type": "code",
   "execution_count": null,
   "id": "cdd2ff1e",
   "metadata": {},
   "outputs": [],
   "source": [
    "Introduction to string datatype: "
   ]
  },
  {
   "cell_type": "code",
   "execution_count": null,
   "id": "6fd9c798",
   "metadata": {},
   "outputs": [],
   "source": [
    "definition : A string is a series of characters declared in quotes.\n",
    "classification : It is classified as an immutable datatype \n",
    "how to declare the string datatype ..?\n",
    "3 possible approaches:\n",
    "    1.single quote\n",
    "    2.double quote\n",
    "    3.triple quote"
   ]
  },
  {
   "cell_type": "code",
   "execution_count": 11,
   "id": "471c5959",
   "metadata": {},
   "outputs": [
    {
     "name": "stdout",
     "output_type": "stream",
     "text": [
      "yamini\n"
     ]
    }
   ],
   "source": [
    "student1 = 'yamini'\n",
    "print(student1)"
   ]
  },
  {
   "cell_type": "code",
   "execution_count": 13,
   "id": "e07199b0",
   "metadata": {},
   "outputs": [
    {
     "name": "stdout",
     "output_type": "stream",
     "text": [
      "naveed\n"
     ]
    }
   ],
   "source": [
    "student2 = \"naveed\"\n",
    "print(student2)"
   ]
  },
  {
   "cell_type": "code",
   "execution_count": 14,
   "id": "9d9e6ad3",
   "metadata": {},
   "outputs": [
    {
     "name": "stdout",
     "output_type": "stream",
     "text": [
      "kiran\n"
     ]
    }
   ],
   "source": [
    "student3 = \"\"\"kiran\"\"\"\n",
    "print(student3)"
   ]
  },
  {
   "cell_type": "code",
   "execution_count": null,
   "id": "bff68b42",
   "metadata": {},
   "outputs": [],
   "source": [
    "introduction to string methods: "
   ]
  },
  {
   "cell_type": "code",
   "execution_count": 15,
   "id": "2218f29e",
   "metadata": {},
   "outputs": [
    {
     "data": {
      "text/plain": [
       "str"
      ]
     },
     "execution_count": 15,
     "metadata": {},
     "output_type": "execute_result"
    }
   ],
   "source": [
    "type(student1)"
   ]
  },
  {
   "cell_type": "code",
   "execution_count": 16,
   "id": "c70122e4",
   "metadata": {},
   "outputs": [
    {
     "data": {
      "text/plain": [
       "str"
      ]
     },
     "execution_count": 16,
     "metadata": {},
     "output_type": "execute_result"
    }
   ],
   "source": [
    "type(student2)"
   ]
  },
  {
   "cell_type": "code",
   "execution_count": 18,
   "id": "a2d5e35a",
   "metadata": {},
   "outputs": [
    {
     "data": {
      "text/plain": [
       "str"
      ]
     },
     "execution_count": 18,
     "metadata": {},
     "output_type": "execute_result"
    }
   ],
   "source": [
    "type(student3)"
   ]
  },
  {
   "cell_type": "code",
   "execution_count": null,
   "id": "27e66b9e",
   "metadata": {},
   "outputs": [],
   "source": [
    "type is a method by using which we can be able to verify the datatype."
   ]
  },
  {
   "cell_type": "code",
   "execution_count": null,
   "id": "d1ce4ced",
   "metadata": {},
   "outputs": [],
   "source": []
  }
 ],
 "metadata": {
  "kernelspec": {
   "display_name": "Python 3 (ipykernel)",
   "language": "python",
   "name": "python3"
  },
  "language_info": {
   "codemirror_mode": {
    "name": "ipython",
    "version": 3
   },
   "file_extension": ".py",
   "mimetype": "text/x-python",
   "name": "python",
   "nbconvert_exporter": "python",
   "pygments_lexer": "ipython3",
   "version": "3.9.7"
  },
  "toc": {
   "base_numbering": 1,
   "nav_menu": {},
   "number_sections": true,
   "sideBar": true,
   "skip_h1_title": false,
   "title_cell": "Table of Contents",
   "title_sidebar": "Contents",
   "toc_cell": false,
   "toc_position": {},
   "toc_section_display": true,
   "toc_window_display": false
  }
 },
 "nbformat": 4,
 "nbformat_minor": 5
}
