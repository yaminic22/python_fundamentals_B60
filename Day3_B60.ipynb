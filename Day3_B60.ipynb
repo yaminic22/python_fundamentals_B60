{
 "cells": [
  {
   "cell_type": "code",
   "execution_count": null,
   "id": "fa0dc973",
   "metadata": {},
   "outputs": [],
   "source": [
    "Continuation of string datatype:"
   ]
  },
  {
   "cell_type": "code",
   "execution_count": 1,
   "id": "24a60b01",
   "metadata": {},
   "outputs": [],
   "source": [
    "first_name = 'vamsi'\n",
    "last_name = 'krishna'"
   ]
  },
  {
   "cell_type": "code",
   "execution_count": null,
   "id": "05922cda",
   "metadata": {},
   "outputs": [],
   "source": [
    "# req: I need full name"
   ]
  },
  {
   "cell_type": "code",
   "execution_count": 2,
   "id": "99471e47",
   "metadata": {},
   "outputs": [
    {
     "name": "stdout",
     "output_type": "stream",
     "text": [
      "vamsi krishna\n"
     ]
    }
   ],
   "source": [
    "full_name = 'vamsi krishna'\n",
    "print(full_name)"
   ]
  },
  {
   "cell_type": "code",
   "execution_count": 3,
   "id": "296d1e37",
   "metadata": {},
   "outputs": [
    {
     "name": "stdout",
     "output_type": "stream",
     "text": [
      "Vamsi Krishna\n"
     ]
    }
   ],
   "source": [
    "print(full_name.title())"
   ]
  },
  {
   "cell_type": "code",
   "execution_count": null,
   "id": "113990c2",
   "metadata": {},
   "outputs": [],
   "source": [
    "#req: I want the fullname in the capital letters:"
   ]
  },
  {
   "cell_type": "code",
   "execution_count": 4,
   "id": "9ac83baf",
   "metadata": {},
   "outputs": [
    {
     "name": "stdout",
     "output_type": "stream",
     "text": [
      "VAMSI KRISHNA\n"
     ]
    }
   ],
   "source": [
    "print(full_name.upper())"
   ]
  },
  {
   "cell_type": "code",
   "execution_count": 5,
   "id": "1e51ea48",
   "metadata": {},
   "outputs": [],
   "source": [
    "# req: I want the full name in the smallcase letters:"
   ]
  },
  {
   "cell_type": "code",
   "execution_count": 6,
   "id": "adba97ff",
   "metadata": {},
   "outputs": [
    {
     "name": "stdout",
     "output_type": "stream",
     "text": [
      "vamsi krishna\n"
     ]
    }
   ],
   "source": [
    "print(full_name.lower())"
   ]
  },
  {
   "cell_type": "code",
   "execution_count": null,
   "id": "12ae0a06",
   "metadata": {},
   "outputs": [],
   "source": [
    "Introduction to f strings:"
   ]
  },
  {
   "cell_type": "code",
   "execution_count": 7,
   "id": "b1ae57c1",
   "metadata": {},
   "outputs": [],
   "source": [
    "# General syntax of f strings"
   ]
  },
  {
   "cell_type": "code",
   "execution_count": 8,
   "id": "ef8a0032",
   "metadata": {},
   "outputs": [
    {
     "ename": "NameError",
     "evalue": "name 'placeholder' is not defined",
     "output_type": "error",
     "traceback": [
      "\u001b[1;31m---------------------------------------------------------------------------\u001b[0m",
      "\u001b[1;31mNameError\u001b[0m                                 Traceback (most recent call last)",
      "\u001b[1;32m~\\AppData\\Local\\Temp/ipykernel_10220/3388107449.py\u001b[0m in \u001b[0;36m<module>\u001b[1;34m\u001b[0m\n\u001b[1;32m----> 1\u001b[1;33m \u001b[1;34mf\"custom message {placeholder-1} {placeholder-2}...{placeholder-n}\"\u001b[0m\u001b[1;33m\u001b[0m\u001b[1;33m\u001b[0m\u001b[0m\n\u001b[0m",
      "\u001b[1;31mNameError\u001b[0m: name 'placeholder' is not defined"
     ]
    }
   ],
   "source": [
    " f\"custom message {placeholder-1} {placeholder-2}...{placeholder-n}\""
   ]
  },
  {
   "cell_type": "code",
   "execution_count": 9,
   "id": "c0dcb11a",
   "metadata": {},
   "outputs": [],
   "source": [
    "first_name = 'adil'\n",
    "last_name = 'kamal'"
   ]
  },
  {
   "cell_type": "code",
   "execution_count": 10,
   "id": "bd526ad6",
   "metadata": {},
   "outputs": [],
   "source": [
    "# req : I want to get the full name .. ?"
   ]
  },
  {
   "cell_type": "code",
   "execution_count": 11,
   "id": "d6983d23",
   "metadata": {},
   "outputs": [
    {
     "name": "stdout",
     "output_type": "stream",
     "text": [
      "adil kamal\n"
     ]
    }
   ],
   "source": [
    "full_name = f\"{first_name} {last_name}\"\n",
    "print(full_name)"
   ]
  },
  {
   "cell_type": "code",
   "execution_count": 13,
   "id": "42f64926",
   "metadata": {},
   "outputs": [
    {
     "name": "stdout",
     "output_type": "stream",
     "text": [
      "keep up the good work,adil kamal\n"
     ]
    }
   ],
   "source": [
    "message = f\"keep up the good work,{full_name}\"\n",
    "print(message)"
   ]
  },
  {
   "cell_type": "code",
   "execution_count": 14,
   "id": "3f300b84",
   "metadata": {},
   "outputs": [
    {
     "name": "stdout",
     "output_type": "stream",
     "text": [
      " keep up the good work,Adil Kamal\n"
     ]
    }
   ],
   "source": [
    "message = f\" keep up the good work,{full_name.title()}\"\n",
    "print(message)"
   ]
  },
  {
   "cell_type": "code",
   "execution_count": null,
   "id": "56368d43",
   "metadata": {},
   "outputs": [],
   "source": [
    "Adding whitespaces to strings:"
   ]
  },
  {
   "cell_type": "code",
   "execution_count": 16,
   "id": "031324b2",
   "metadata": {},
   "outputs": [
    {
     "name": "stdout",
     "output_type": "stream",
     "text": [
      "favorite_programming_languagepythonjavac++swifthtmlc\n"
     ]
    }
   ],
   "source": [
    "print(\"favorite_programming_languagepythonjavac++swifthtmlc\")"
   ]
  },
  {
   "cell_type": "code",
   "execution_count": 17,
   "id": "40232789",
   "metadata": {},
   "outputs": [
    {
     "name": "stdout",
     "output_type": "stream",
     "text": [
      "favorite_programming_language:\n",
      "python\n",
      "java\n",
      "c++\n",
      "swift\n",
      "html\n",
      "c\n"
     ]
    }
   ],
   "source": [
    "print(\"favorite_programming_language:\\npython\\njava\\nc++\\nswift\\nhtml\\nc\")"
   ]
  },
  {
   "cell_type": "code",
   "execution_count": null,
   "id": "118f3810",
   "metadata": {},
   "outputs": [],
   "source": [
    "\\n ===> new line delimter"
   ]
  },
  {
   "cell_type": "code",
   "execution_count": 18,
   "id": "d89d389a",
   "metadata": {},
   "outputs": [
    {
     "name": "stdout",
     "output_type": "stream",
     "text": [
      "favorite_programming_language:\n",
      "\tpython\n",
      "\tjava\n",
      "\tc++\n",
      "\tswift\n",
      "\thtml\n",
      "\tc\n"
     ]
    }
   ],
   "source": [
    "print(\"favorite_programming_language:\\n\\tpython\\n\\tjava\\n\\tc++\\n\\tswift\\n\\thtml\\n\\tc\")"
   ]
  },
  {
   "cell_type": "code",
   "execution_count": 19,
   "id": "8ac7832b",
   "metadata": {},
   "outputs": [
    {
     "ename": "SyntaxError",
     "evalue": "unexpected character after line continuation character (Temp/ipykernel_10220/3458287267.py, line 1)",
     "output_type": "error",
     "traceback": [
      "\u001b[1;36m  File \u001b[1;32m\"C:\\Users\\phani\\AppData\\Local\\Temp/ipykernel_10220/3458287267.py\"\u001b[1;36m, line \u001b[1;32m1\u001b[0m\n\u001b[1;33m    \\t === > tab delimter\u001b[0m\n\u001b[1;37m                        ^\u001b[0m\n\u001b[1;31mSyntaxError\u001b[0m\u001b[1;31m:\u001b[0m unexpected character after line continuation character\n"
     ]
    }
   ],
   "source": [
    "\\t === > tab delimiter"
   ]
  },
  {
   "cell_type": "code",
   "execution_count": null,
   "id": "bba49631",
   "metadata": {},
   "outputs": [],
   "source": [
    "Removing white spaces from strings:"
   ]
  },
  {
   "cell_type": "code",
   "execution_count": 20,
   "id": "486e4c1c",
   "metadata": {},
   "outputs": [
    {
     "name": "stdout",
     "output_type": "stream",
     "text": [
      "prasad\n"
     ]
    }
   ],
   "source": [
    "name1 ='prasad'\n",
    "print(name1)"
   ]
  },
  {
   "cell_type": "code",
   "execution_count": 23,
   "id": "e5ae2d89",
   "metadata": {},
   "outputs": [
    {
     "name": "stdout",
     "output_type": "stream",
     "text": [
      "   naveed\n"
     ]
    }
   ],
   "source": [
    "name2 =\"   naveed\"  # left side whitespace -- > lstrip\n",
    "print(name2)"
   ]
  },
  {
   "cell_type": "code",
   "execution_count": 24,
   "id": "3f7b4ce4",
   "metadata": {},
   "outputs": [
    {
     "name": "stdout",
     "output_type": "stream",
     "text": [
      "kumar   \n"
     ]
    }
   ],
   "source": [
    "name3 = \"kumar   \"  # right side whitespace ---> rstrip\n",
    "print(name3)"
   ]
  },
  {
   "cell_type": "code",
   "execution_count": 25,
   "id": "903d1f9d",
   "metadata": {},
   "outputs": [
    {
     "data": {
      "text/plain": [
       "'naveed'"
      ]
     },
     "execution_count": 25,
     "metadata": {},
     "output_type": "execute_result"
    }
   ],
   "source": [
    "name2.lstrip()"
   ]
  },
  {
   "cell_type": "code",
   "execution_count": 26,
   "id": "ac9017ac",
   "metadata": {},
   "outputs": [
    {
     "data": {
      "text/plain": [
       "'kumar'"
      ]
     },
     "execution_count": 26,
     "metadata": {},
     "output_type": "execute_result"
    }
   ],
   "source": [
    "name3.rstrip()"
   ]
  },
  {
   "cell_type": "code",
   "execution_count": null,
   "id": "34146ddf",
   "metadata": {},
   "outputs": [],
   "source": []
  }
 ],
 "metadata": {
  "kernelspec": {
   "display_name": "Python 3 (ipykernel)",
   "language": "python",
   "name": "python3"
  },
  "language_info": {
   "codemirror_mode": {
    "name": "ipython",
    "version": 3
   },
   "file_extension": ".py",
   "mimetype": "text/x-python",
   "name": "python",
   "nbconvert_exporter": "python",
   "pygments_lexer": "ipython3",
   "version": "3.9.7"
  },
  "toc": {
   "base_numbering": 1,
   "nav_menu": {},
   "number_sections": true,
   "sideBar": true,
   "skip_h1_title": false,
   "title_cell": "Table of Contents",
   "title_sidebar": "Contents",
   "toc_cell": false,
   "toc_position": {},
   "toc_section_display": true,
   "toc_window_display": false
  }
 },
 "nbformat": 4,
 "nbformat_minor": 5
}
