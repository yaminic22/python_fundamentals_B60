{
 "cells": [
  {
   "cell_type": "code",
   "execution_count": null,
   "id": "449135db",
   "metadata": {},
   "outputs": [],
   "source": [
    "continuation with lists:"
   ]
  },
  {
   "cell_type": "code",
   "execution_count": null,
   "id": "d66bc6e4",
   "metadata": {},
   "outputs": [],
   "source": [
    "organising the list datatype:"
   ]
  },
  {
   "cell_type": "code",
   "execution_count": 1,
   "id": "4d3e8bf1",
   "metadata": {},
   "outputs": [],
   "source": [
    "cars = ['suzuki','kia','audi','toyota','volvo','benz','ferrari','bmw']"
   ]
  },
  {
   "cell_type": "code",
   "execution_count": 2,
   "id": "3b1853e4",
   "metadata": {},
   "outputs": [
    {
     "name": "stdout",
     "output_type": "stream",
     "text": [
      "['suzuki', 'kia', 'audi', 'toyota', 'volvo', 'benz', 'ferrari', 'bmw']\n"
     ]
    }
   ],
   "source": [
    "print(cars)"
   ]
  },
  {
   "cell_type": "code",
   "execution_count": 3,
   "id": "ce10f1fd",
   "metadata": {},
   "outputs": [],
   "source": [
    "#req: i want to arrage the above list in the alphabetical order --- > A-Z order"
   ]
  },
  {
   "cell_type": "code",
   "execution_count": null,
   "id": "b805eb25",
   "metadata": {},
   "outputs": [],
   "source": [
    "two approaches: \n",
    "    1.temporary approach : sorted ===> we will be able to get the original order again.\n",
    "    2.permanent approach : sort  ====> the changes are implied permanentlt ===> we will not be able to get the original order !"
   ]
  },
  {
   "cell_type": "code",
   "execution_count": 4,
   "id": "fae4e14e",
   "metadata": {},
   "outputs": [
    {
     "name": "stdout",
     "output_type": "stream",
     "text": [
      "['audi', 'benz', 'bmw', 'ferrari', 'kia', 'suzuki', 'toyota', 'volvo']\n"
     ]
    }
   ],
   "source": [
    "print(sorted(cars))  # A-Z "
   ]
  },
  {
   "cell_type": "code",
   "execution_count": 5,
   "id": "6638045c",
   "metadata": {},
   "outputs": [
    {
     "name": "stdout",
     "output_type": "stream",
     "text": [
      "['suzuki', 'kia', 'audi', 'toyota', 'volvo', 'benz', 'ferrari', 'bmw']\n"
     ]
    }
   ],
   "source": [
    "print(cars)"
   ]
  },
  {
   "cell_type": "code",
   "execution_count": 9,
   "id": "6317ebd6",
   "metadata": {},
   "outputs": [],
   "source": [
    "cars.sort() # changes are made permanently over here !"
   ]
  },
  {
   "cell_type": "code",
   "execution_count": 10,
   "id": "47c70de0",
   "metadata": {},
   "outputs": [
    {
     "name": "stdout",
     "output_type": "stream",
     "text": [
      "['audi', 'benz', 'bmw', 'ferrari', 'kia', 'suzuki', 'toyota', 'volvo']\n"
     ]
    }
   ],
   "source": [
    "print(cars)"
   ]
  },
  {
   "cell_type": "code",
   "execution_count": null,
   "id": "cdf5d0bf",
   "metadata": {},
   "outputs": [],
   "source": [
    " Interview Q : what is the difference between sorted and sort methods in a list ? ****"
   ]
  },
  {
   "cell_type": "code",
   "execution_count": 12,
   "id": "67a011c6",
   "metadata": {},
   "outputs": [],
   "source": [
    "# How to reverse the elements in the list ?"
   ]
  },
  {
   "cell_type": "code",
   "execution_count": 13,
   "id": "7e847f04",
   "metadata": {},
   "outputs": [
    {
     "name": "stdout",
     "output_type": "stream",
     "text": [
      "['audi', 'benz', 'bmw', 'ferrari', 'kia', 'suzuki', 'toyota', 'volvo']\n"
     ]
    }
   ],
   "source": [
    "print(cars)"
   ]
  },
  {
   "cell_type": "code",
   "execution_count": 14,
   "id": "6b5586b9",
   "metadata": {},
   "outputs": [],
   "source": [
    "cars.reverse()   "
   ]
  },
  {
   "cell_type": "code",
   "execution_count": 16,
   "id": "b99d559b",
   "metadata": {},
   "outputs": [
    {
     "name": "stdout",
     "output_type": "stream",
     "text": [
      "['volvo', 'toyota', 'suzuki', 'kia', 'ferrari', 'bmw', 'benz', 'audi']\n"
     ]
    }
   ],
   "source": [
    "print(cars)  # reverse order"
   ]
  },
  {
   "cell_type": "code",
   "execution_count": 17,
   "id": "e415bf8e",
   "metadata": {},
   "outputs": [],
   "source": [
    "# req : I want to count the number of elements in the list ?"
   ]
  },
  {
   "cell_type": "code",
   "execution_count": 18,
   "id": "84d1edb7",
   "metadata": {},
   "outputs": [
    {
     "data": {
      "text/plain": [
       "8"
      ]
     },
     "execution_count": 18,
     "metadata": {},
     "output_type": "execute_result"
    }
   ],
   "source": [
    "len(cars)"
   ]
  },
  {
   "cell_type": "code",
   "execution_count": 19,
   "id": "fe02be38",
   "metadata": {},
   "outputs": [
    {
     "ename": "SyntaxError",
     "evalue": "invalid syntax (Temp/ipykernel_22524/1441557417.py, line 1)",
     "output_type": "error",
     "traceback": [
      "\u001b[1;36m  File \u001b[1;32m\"C:\\Users\\phani\\AppData\\Local\\Temp/ipykernel_22524/1441557417.py\"\u001b[1;36m, line \u001b[1;32m1\u001b[0m\n\u001b[1;33m    introduction to slicing of lists :\u001b[0m\n\u001b[1;37m                 ^\u001b[0m\n\u001b[1;31mSyntaxError\u001b[0m\u001b[1;31m:\u001b[0m invalid syntax\n"
     ]
    }
   ],
   "source": [
    "introduction to slicing of lists :"
   ]
  },
  {
   "cell_type": "code",
   "execution_count": 22,
   "id": "728ef4e1",
   "metadata": {},
   "outputs": [],
   "source": [
    "# general syntax of slicing :\n",
    "#  [startvalue:stopvalue:stepcount]\n",
    "#Note : stop value is always exclusive ====> to include the stop value we have to increment the number by 1+"
   ]
  },
  {
   "cell_type": "code",
   "execution_count": 23,
   "id": "d28d47be",
   "metadata": {},
   "outputs": [],
   "source": [
    "students = ['vamsi','deepak','naveed','john','yamini','reena']  #0,1,2,3,4,5"
   ]
  },
  {
   "cell_type": "code",
   "execution_count": 24,
   "id": "3a64919e",
   "metadata": {},
   "outputs": [
    {
     "name": "stdout",
     "output_type": "stream",
     "text": [
      "['vamsi', 'deepak', 'naveed', 'john', 'yamini', 'reena']\n"
     ]
    }
   ],
   "source": [
    "print(students)"
   ]
  },
  {
   "cell_type": "code",
   "execution_count": 25,
   "id": "bb8ae33f",
   "metadata": {},
   "outputs": [
    {
     "data": {
      "text/plain": [
       "list"
      ]
     },
     "execution_count": 25,
     "metadata": {},
     "output_type": "execute_result"
    }
   ],
   "source": [
    "type(students)"
   ]
  },
  {
   "cell_type": "code",
   "execution_count": 26,
   "id": "f9c20494",
   "metadata": {},
   "outputs": [],
   "source": [
    "# I want to include vamsi and deepak in one group !"
   ]
  },
  {
   "cell_type": "code",
   "execution_count": 27,
   "id": "d757d857",
   "metadata": {},
   "outputs": [
    {
     "name": "stdout",
     "output_type": "stream",
     "text": [
      "['vamsi']\n"
     ]
    }
   ],
   "source": [
    "print(students[0:1]) "
   ]
  },
  {
   "cell_type": "code",
   "execution_count": 28,
   "id": "41b5d5ec",
   "metadata": {},
   "outputs": [
    {
     "name": "stdout",
     "output_type": "stream",
     "text": [
      "['vamsi', 'deepak']\n"
     ]
    }
   ],
   "source": [
    "print(students[0:2])"
   ]
  },
  {
   "cell_type": "code",
   "execution_count": 29,
   "id": "77fa7461",
   "metadata": {},
   "outputs": [],
   "source": [
    "#naveed and john"
   ]
  },
  {
   "cell_type": "code",
   "execution_count": 30,
   "id": "8b7b3614",
   "metadata": {},
   "outputs": [
    {
     "name": "stdout",
     "output_type": "stream",
     "text": [
      "['naveed', 'john']\n"
     ]
    }
   ],
   "source": [
    "print(students[2:4:1])"
   ]
  },
  {
   "cell_type": "code",
   "execution_count": 31,
   "id": "32f0d1da",
   "metadata": {},
   "outputs": [],
   "source": [
    "# yamini and reena"
   ]
  },
  {
   "cell_type": "code",
   "execution_count": 32,
   "id": "479bdaef",
   "metadata": {},
   "outputs": [
    {
     "name": "stdout",
     "output_type": "stream",
     "text": [
      "['yamini', 'reena']\n"
     ]
    }
   ],
   "source": [
    "print(students[4:6:1])"
   ]
  },
  {
   "cell_type": "code",
   "execution_count": null,
   "id": "076747c9",
   "metadata": {},
   "outputs": [],
   "source": []
  }
 ],
 "metadata": {
  "kernelspec": {
   "display_name": "Python 3 (ipykernel)",
   "language": "python",
   "name": "python3"
  },
  "language_info": {
   "codemirror_mode": {
    "name": "ipython",
    "version": 3
   },
   "file_extension": ".py",
   "mimetype": "text/x-python",
   "name": "python",
   "nbconvert_exporter": "python",
   "pygments_lexer": "ipython3",
   "version": "3.9.7"
  },
  "toc": {
   "base_numbering": 1,
   "nav_menu": {},
   "number_sections": true,
   "sideBar": true,
   "skip_h1_title": false,
   "title_cell": "Table of Contents",
   "title_sidebar": "Contents",
   "toc_cell": false,
   "toc_position": {},
   "toc_section_display": true,
   "toc_window_display": false
  }
 },
 "nbformat": 4,
 "nbformat_minor": 5
}
